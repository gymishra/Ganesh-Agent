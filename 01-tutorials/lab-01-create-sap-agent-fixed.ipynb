{
 "cells": [
  {
   "cell_type": "markdown",
   "metadata": {},
   "source": [
    "# Lab 1: Create SAP Sales Order Agent\n",
    "\n",
    "Welcome to the first lab of the SAP Sales Order Agent workshop! In this lab, you'll create a basic SAP sales order management agent using Strands Agents and Amazon Bedrock.\n",
    "\n",
    "## 🎯 Learning Objectives\n",
    "\n",
    "By the end of this lab, you will:\n",
    "- Understand the basics of Strands Agents\n",
    "- Create a SAP sales order agent with core capabilities\n",
    "- Test the agent with mock SAP data\n",
    "- Prepare for integration with AgentCore services\n",
    "\n",
    "## ⏱️ Estimated Time: 30 minutes"
   ]
  },
  {
   "cell_type": "code",
   "execution_count": 1,
   "metadata": {},
   "outputs": [
    {
     "name": "stdout",
     "output_type": "stream",
     "text": [
      "============================================================\n",
      "🚀 Lab 1: Create SAP Sales Order Agent\n",
      "============================================================\n",
      "----------------------------------------\n",
      "📋 Current Architecture - Lab 1\n",
      "----------------------------------------\n",
      "\n",
      "Lab 1: Basic Agent\n",
      "┌─────────────────┐\n",
      "│   SAP Agent     │\n",
      "│   (Mock Data)   │\n",
      "└─────────────────┘\n",
      "        \n"
     ]
    }
   ],
   "source": [
    "# Import required libraries\n",
    "import sys\n",
    "import os\n",
    "from utils import (\n",
    "    print_header, print_success, print_error, print_info, print_warning,\n",
    "    check_aws_credentials, check_bedrock_access, create_mock_order_data,\n",
    "    display_architecture_progress, workshop_progress\n",
    ")\n",
    "\n",
    "# Display lab header\n",
    "print_header(\"Lab 1: Create SAP Sales Order Agent\")\n",
    "display_architecture_progress(1)"
   ]
  },
  {
   "cell_type": "code",
   "execution_count": 2,
   "metadata": {},
   "outputs": [
    {
     "name": "stdout",
     "output_type": "stream",
     "text": [
      "----------------------------------------\n",
      "📋 Checking Prerequisites\n",
      "----------------------------------------\n",
      "✅ AWS credentials configured for account: 953841955037\n",
      "✅ Model available: anthropic.claude-3-5-sonnet-20241022-v2:0\n",
      "✅ Model available: anthropic.claude-3-5-haiku-20241022-v1:0\n",
      "✅ All prerequisites met! Ready to proceed.\n"
     ]
    }
   ],
   "source": [
    "# Check prerequisites\n",
    "print_header(\"Checking Prerequisites\", level=2)\n",
    "\n",
    "# Check AWS credentials\n",
    "aws_ok = check_aws_credentials()\n",
    "\n",
    "# Check Bedrock access\n",
    "bedrock_ok = check_bedrock_access()\n",
    "\n",
    "if aws_ok and bedrock_ok:\n",
    "    print_success(\"All prerequisites met! Ready to proceed.\")\n",
    "else:\n",
    "    print_error(\"Please resolve the issues above before continuing.\")"
   ]
  },
  {
   "cell_type": "code",
   "execution_count": 3,
   "metadata": {},
   "outputs": [
    {
     "name": "stdout",
     "output_type": "stream",
     "text": [
      "----------------------------------------\n",
      "📋 Creating Mock SAP Data\n",
      "----------------------------------------\n",
      "ℹ️  Created 3 mock sales orders:\n",
      "  🚫 SO001234 - ACME Corporation - 15000.0 USD\n",
      "  🚫 SO001235 - TechCorp Ltd - 8500.0 USD\n",
      "  ✅ SO001236 - Global Manufacturing Inc - 25000.0 USD\n",
      "✅ Mock data created successfully!\n"
     ]
    }
   ],
   "source": [
    "# Create mock SAP data\n",
    "print_header(\"Creating Mock SAP Data\", level=2)\n",
    "\n",
    "mock_orders = create_mock_order_data()\n",
    "\n",
    "print_info(f\"Created {len(mock_orders)} mock sales orders:\")\n",
    "for order in mock_orders:\n",
    "    status_icon = \"🚫\" if order['has_delivery_block'] else \"✅\"\n",
    "    print(f\"  {status_icon} {order['order_id']} - {order['customer_name']} - {order['order_value']} {order['currency']}\")\n",
    "\n",
    "print_success(\"Mock data created successfully!\")"
   ]
  },
  {
   "cell_type": "code",
   "execution_count": 14,
   "metadata": {},
   "outputs": [
    {
     "name": "stdout",
     "output_type": "stream",
     "text": [
      "✅ SAP Sales Order Agent class created successfully with proper Strands API!\n"
     ]
    }
   ],
   "source": [
    "from strands import Agent, tool\n",
    "from strands.models import BedrockModel\n",
    "\n",
    "# Define SAP-focused system prompt\n",
    "SAP_SYSTEM_PROMPT = \"\"\"You are a SAP Sales Order Agent with comprehensive order management capabilities. You can:\n",
    "\n",
    "1. List sales orders with delivery blocks\n",
    "2. Show detailed information for specific orders  \n",
    "3. Remove delivery blocks from orders\n",
    "4. Send email notifications\n",
    "5. Provide troubleshooting guidance\n",
    "\n",
    "When handling SAP orders:\n",
    "- Always provide clear, professional responses\n",
    "- Include relevant details like customer, value, and block reasons\n",
    "- Format information in a user-friendly way\n",
    "- Handle errors appropriately\n",
    "- Explain SAP processes in business terms\n",
    "\n",
    "You have access to tools for managing SAP sales orders. Use them to provide accurate, real-time information.\"\"\"\n",
    "\n",
    "@tool\n",
    "def list_blocked_orders() -> str:\n",
    "    \"\"\"List all sales orders that have delivery blocks.\"\"\"\n",
    "    # This will be populated with actual order data\n",
    "    return \"Tool function - will be overridden in class\"\n",
    "\n",
    "@tool  \n",
    "def get_order_details(order_id: str) -> str:\n",
    "    \"\"\"Get detailed information about a specific sales order.\"\"\"\n",
    "    return f\"Tool function for {order_id} - will be overridden in class\"\n",
    "\n",
    "@tool\n",
    "def remove_delivery_block(order_id: str, reason: str = \"Manual removal\") -> str:\n",
    "    \"\"\"Remove delivery block from a sales order.\"\"\"\n",
    "    return f\"Tool function for {order_id} - will be overridden in class\"\n",
    "\n",
    "class SAPSalesOrderAgent:\n",
    "    \"\"\"SAP Sales Order Agent using proper Strands Agent API.\"\"\"\n",
    "    \n",
    "    def __init__(self, mock_data: List[Dict[str, Any]]):\n",
    "        \"\"\"Initialize the agent with mock SAP data.\"\"\"\n",
    "        self.orders = {order['order_id']: order for order in mock_data}\n",
    "        \n",
    "        # Create tools that have access to self.orders\n",
    "        @tool\n",
    "        def list_blocked_orders() -> str:\n",
    "            \"\"\"List all sales orders that have delivery blocks.\"\"\"\n",
    "            blocked_orders = [order for order in self.orders.values() if order['has_delivery_block']]\n",
    "            \n",
    "            if not blocked_orders:\n",
    "                return \"No sales orders with delivery blocks found.\"\n",
    "            \n",
    "            result = f\"Found {len(blocked_orders)} sales orders with delivery blocks:\\n\\n\"\n",
    "            \n",
    "            for i, order in enumerate(blocked_orders, 1):\n",
    "                block_info = order.get('delivery_block', {})\n",
    "                result += f\"{i}. **Order {order['order_id']}**\\n\"\n",
    "                result += f\"   - Customer: {order['customer_name']}\\n\"\n",
    "                result += f\"   - Value: {order['currency']} {order['order_value']:,.2f}\\n\"\n",
    "                result += f\"   - Block Reason: {block_info.get('reason', 'Unknown')}\\n\"\n",
    "                result += f\"   - Blocked Since: {block_info.get('blocked_date', 'Unknown')}\\n\\n\"\n",
    "            \n",
    "            return result\n",
    "        \n",
    "        @tool\n",
    "        def get_order_details(order_id: str) -> str:\n",
    "            \"\"\"Get detailed information about a specific sales order.\"\"\"\n",
    "            # Find the order\n",
    "            order = None\n",
    "            for oid, order_data in self.orders.items():\n",
    "                if oid == order_id or oid.replace('SO', '') == order_id.replace('SO', ''):\n",
    "                    order = order_data\n",
    "                    break\n",
    "            \n",
    "            if not order:\n",
    "                return f\"Sales order {order_id} not found. Available orders: {', '.join(self.orders.keys())}\"\n",
    "            \n",
    "            result = f\"**Order Details for {order['order_id']}**\\n\\n\"\n",
    "            result += f\"📦 **Order Information:**\\n\"\n",
    "            result += f\"- Order ID: {order['order_id']}\\n\"\n",
    "            result += f\"- Customer: {order['customer_name']} ({order['customer_number']})\\n\"\n",
    "            result += f\"- Order Date: {order['order_date']}\\n\"\n",
    "            result += f\"- Order Value: {order['currency']} {order['order_value']:,.2f}\\n\"\n",
    "            result += f\"- Status: {order['status']}\\n\"\n",
    "            result += f\"- Material: {order['material_description']}\\n\\n\"\n",
    "            \n",
    "            if order['has_delivery_block']:\n",
    "                block_info = order['delivery_block']\n",
    "                result += f\"🚫 **Delivery Block:**\\n\"\n",
    "                result += f\"- Block Reason: {block_info['reason']}\\n\"\n",
    "                result += f\"- Blocked Since: {block_info['blocked_date']}\\n\"\n",
    "                result += f\"- Blocked By: {block_info['blocked_by']}\\n\"\n",
    "            else:\n",
    "                result += f\"✅ **No delivery blocks**\\n\"\n",
    "            \n",
    "            return result\n",
    "        \n",
    "        @tool\n",
    "        def remove_delivery_block(order_id: str, reason: str = \"Manual removal\") -> str:\n",
    "            \"\"\"Remove delivery block from a sales order.\"\"\"\n",
    "            # Find and update the order\n",
    "            for oid, order_data in self.orders.items():\n",
    "                if oid == order_id or oid.replace('SO', '') == order_id.replace('SO', ''):\n",
    "                    if order_data['has_delivery_block']:\n",
    "                        order_data['has_delivery_block'] = False\n",
    "                        order_data['delivery_block'] = None\n",
    "                        return f\"✅ **Delivery block removed from {order_data['order_id']}!**\\n\\nReason: {reason}\\nThe order is now released for delivery processing.\"\n",
    "                    else:\n",
    "                        return f\"Order {order_data['order_id']} does not have any delivery blocks.\"\n",
    "            \n",
    "            return f\"Sales order {order_id} not found.\"\n",
    "        \n",
    "        # Create Bedrock model\n",
    "        bedrock_model = BedrockModel(\n",
    "            model_id=\"us.anthropic.claude-3-5-haiku-20241022-v1:0\",\n",
    "            temperature=0.3,\n",
    "        )\n",
    "        \n",
    "        # Create agent with system prompt, tools, and model\n",
    "        self.agent = Agent(\n",
    "            system_prompt=SAP_SYSTEM_PROMPT,\n",
    "            tools=[list_blocked_orders, get_order_details, remove_delivery_block],\n",
    "            model=bedrock_model,\n",
    "        )\n",
    "    \n",
    "    def process_message(self, message: str) -> str:\n",
    "        \"\"\"Process a user message and return the agent's response.\"\"\"\n",
    "        try:\n",
    "            response = self.agent(message)\n",
    "            return response.message\n",
    "        except Exception as e:\n",
    "            return f\"Error processing message: {str(e)}\"\n",
    "\n",
    "print_success(\"SAP Sales Order Agent class created successfully with proper Strands API!\")\n"
   ]
  },
  {
   "cell_type": "code",
   "execution_count": 15,
   "metadata": {},
   "outputs": [
    {
     "name": "stdout",
     "output_type": "stream",
     "text": [
      "----------------------------------------\n",
      "📋 Initializing SAP Agent\n",
      "----------------------------------------\n",
      "✅ SAP Sales Order Agent initialized successfully!\n",
      "ℹ️  Agent capabilities:\n",
      "  • List sales orders with delivery blocks\n",
      "  • Show detailed order information\n",
      "  • Remove delivery blocks from orders\n",
      "  • Send email notifications\n",
      "  • Provide troubleshooting guidance\n"
     ]
    }
   ],
   "source": [
    "# Initialize the agent with mock data\n",
    "print_header(\"Initializing SAP Agent\", level=2)\n",
    "\n",
    "sap_agent = SAPSalesOrderAgent(mock_orders)\n",
    "print_success(\"SAP Sales Order Agent initialized successfully!\")\n",
    "\n",
    "print_info(\"Agent capabilities:\")\n",
    "print(\"  • List sales orders with delivery blocks\")\n",
    "print(\"  • Show detailed order information\")\n",
    "print(\"  • Remove delivery blocks from orders\")\n",
    "print(\"  • Send email notifications\")\n",
    "print(\"  • Provide troubleshooting guidance\")"
   ]
  },
  {
   "cell_type": "code",
   "execution_count": 16,
   "metadata": {},
   "outputs": [
    {
     "name": "stdout",
     "output_type": "stream",
     "text": [
      "----------------------------------------\n",
      "📋 Testing SAP Agent\n",
      "----------------------------------------\n",
      "🧑‍💻 User: Show me all sales orders with delivery blocks\n",
      "\n",
      "🤖 Agent:\n",
      "I'll retrieve the list of sales orders that currently have delivery blocks for you.\n",
      "Tool #1: list_blocked_orders\n",
      "I've retrieved the current sales orders with delivery blocks. There are 2 orders currently blocked:\n",
      "\n",
      "1. Order SO001234 for ACME Corporation:\n",
      "   - Total Value: $15,000.00\n",
      "   - Blocked due to exceeding credit limit\n",
      "   - Block placed on January 15, 2024\n",
      "\n",
      "2. Order SO001235 for TechCorp Ltd:\n",
      "   - Total Value: $8,500.00\n",
      "   - Blocked due to incomplete documentation\n",
      "   - Block placed on January 16, 2024\n",
      "\n",
      "Would you like me to provide more detailed information about either of these orders or help you resolve the delivery blocks?{'role': 'assistant', 'content': [{'text': \"I've retrieved the current sales orders with delivery blocks. There are 2 orders currently blocked:\\n\\n1. Order SO001234 for ACME Corporation:\\n   - Total Value: $15,000.00\\n   - Blocked due to exceeding credit limit\\n   - Block placed on January 15, 2024\\n\\n2. Order SO001235 for TechCorp Ltd:\\n   - Total Value: $8,500.00\\n   - Blocked due to incomplete documentation\\n   - Block placed on January 16, 2024\\n\\nWould you like me to provide more detailed information about either of these orders or help you resolve the delivery blocks?\"}]}\n"
     ]
    }
   ],
   "source": [
    "# Test the agent\n",
    "print_header(\"Testing SAP Agent\", level=2)\n",
    "\n",
    "# Test 1: List blocked orders\n",
    "query1 = \"Show me all sales orders with delivery blocks\"\n",
    "print(f\"🧑‍💻 User: {query1}\")\n",
    "print(\"\\n🤖 Agent:\")\n",
    "response1 = sap_agent.process_message(query1)\n",
    "print(response1)"
   ]
  },
  {
   "cell_type": "markdown",
   "metadata": {},
   "source": [
    "## 🎉 Lab 1 Complete!\n",
    "\n",
    "You've successfully created a basic SAP Sales Order Agent! The key fix was initializing the Strands `Agent()` without parameters, as it doesn't accept `name` or `instructions` in the constructor.\n",
    "\n",
    "Ready for Lab 2? **[Continue to Lab 2 →](lab-02-add-memory.ipynb)**"
   ]
  }
 ],
 "metadata": {
  "kernelspec": {
   "display_name": ".venv",
   "language": "python",
   "name": "python3"
  },
  "language_info": {
   "codemirror_mode": {
    "name": "ipython",
    "version": 3
   },
   "file_extension": ".py",
   "mimetype": "text/x-python",
   "name": "python",
   "nbconvert_exporter": "python",
   "pygments_lexer": "ipython3",
   "version": "3.13.9"
  }
 },
 "nbformat": 4,
 "nbformat_minor": 4
}
